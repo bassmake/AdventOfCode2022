{
 "cells": [
  {
   "cell_type": "code",
   "execution_count": 18,
   "metadata": {
    "dotnet_interactive": {
     "language": "fsharp"
    },
    "vscode": {
     "languageId": "dotnet-interactive.fsharp"
    }
   },
   "outputs": [
    {
     "data": {
      "text/plain": [
       "Total score is 13693."
      ]
     },
     "metadata": {},
     "output_type": "display_data"
    }
   ],
   "source": [
    "// let inputFile = \"example.txt\"\n",
    "let inputFile = \"input.txt\"\n",
    "\n",
    "let readLines filePath = List.ofSeq(System.IO.File.ReadLines(filePath))\n",
    "\n",
    "let mapOpponent c =\n",
    "    match c with\n",
    "    | 'A' -> 'R'\n",
    "    | 'B' -> 'P'\n",
    "    | 'C' -> 'S'\n",
    "    | _ -> raise (System.ArgumentException($\"Unexpected character {c} for opponent (ABX)!\"))\n",
    "\n",
    "let mapMe c =\n",
    "    match c with\n",
    "    | 'X' -> 'R'\n",
    "    | 'Y' -> 'P'\n",
    "    | 'Z' -> 'S'\n",
    "    | _ -> raise (System.ArgumentException($\"Unexpected character {c} for me (XYZ)!\"))\n",
    "\n",
    "let mapResult c =\n",
    "    match c with\n",
    "    | 'X' -> 'L'\n",
    "    | 'Y' -> 'D'\n",
    "    | 'Z' -> 'W'\n",
    "    | _ -> raise (System.ArgumentException($\"Unexpected character {c} for me (XYZ)!\"))\n",
    "\n",
    "let parseLines acc line =\n",
    "    let chars = Seq.toList line\n",
    "    // (mapOpponent chars[0], mapMe chars[2]) :: acc  // for Part One\n",
    "    (mapOpponent chars[0], mapResult chars[2]) :: acc // for Part Two\n",
    "\n",
    "let input = \n",
    "    readLines inputFile\n",
    "    |> List.fold parseLines []\n",
    "    |> List.rev\n",
    "\n",
    "let play o m =\n",
    "    match (o, m) with\n",
    "    | ('R', 'R') -> 1 + 3\n",
    "    | ('P', 'R') -> 1 + 0\n",
    "    | ('S', 'R') -> 1 + 6\n",
    "    | ('R', 'P') -> 2 + 6\n",
    "    | ('P', 'P') -> 2 + 3\n",
    "    | ('S', 'P') -> 2 + 0\n",
    "    | ('R', 'S') -> 3 + 0\n",
    "    | ('P', 'S') -> 3 + 6\n",
    "    | ('S', 'S') -> 3 + 3\n",
    "\n",
    "    | ('R', 'L') -> 0 + 3\n",
    "    | ('P', 'L') -> 0 + 1\n",
    "    | ('S', 'L') -> 0 + 2\n",
    "    | ('R', 'D') -> 3 + 1\n",
    "    | ('P', 'D') -> 3 + 2\n",
    "    | ('S', 'D') -> 3 + 3\n",
    "    | ('R', 'W') -> 6 + 2\n",
    "    | ('P', 'W') -> 6 + 3\n",
    "    | ('S', 'W') -> 6 + 1\n",
    "    | _ -> raise (System.ArgumentException($\"Unexpected combination {o} {m}!\"))\n",
    "\n",
    "let totalScore =\n",
    "    input\n",
    "    |> List.sumBy (fun (o, m) -> play o m)\n",
    "\n",
    "$\"Total score is {totalScore}.\""
   ]
  }
 ],
 "metadata": {
  "kernelspec": {
   "display_name": ".NET (C#)",
   "language": "C#",
   "name": ".net-csharp"
  },
  "language_info": {
   "file_extension": ".cs",
   "mimetype": "text/x-csharp",
   "name": "C#",
   "pygments_lexer": "csharp",
   "version": "9.0"
  },
  "orig_nbformat": 4
 },
 "nbformat": 4,
 "nbformat_minor": 2
}
