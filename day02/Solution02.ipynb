{
 "cells": [
  {
   "cell_type": "code",
   "execution_count": 14,
   "metadata": {
    "dotnet_interactive": {
     "language": "fsharp"
    },
    "vscode": {
     "languageId": "dotnet-interactive.fsharp"
    }
   },
   "outputs": [
    {
     "data": {
      "text/plain": [
       "Total score is 13052."
      ]
     },
     "metadata": {},
     "output_type": "display_data"
    }
   ],
   "source": [
    "// let inputFile = \"example.txt\"\n",
    "let inputFile = \"input.txt\"\n",
    "\n",
    "let readLines filePath = List.ofSeq(System.IO.File.ReadLines(filePath))\n",
    "\n",
    "let mapOpponent c =\n",
    "    match c with\n",
    "    | 'A' -> 'R'\n",
    "    | 'B' -> 'P'\n",
    "    | 'C' -> 'S'\n",
    "    | _ -> raise (System.ArgumentException($\"Unexpected character {c} for opponent (ABX)!\"))\n",
    "\n",
    "let mapMe c =\n",
    "    match c with\n",
    "    | 'X' -> 'R'\n",
    "    | 'Y' -> 'P'\n",
    "    | 'Z' -> 'S'\n",
    "    | _ -> raise (System.ArgumentException($\"Unexpected character {c} for me (XYZ)!\"))\n",
    "\n",
    "let parseLines acc line =\n",
    "    let chars = Seq.toList line\n",
    "    (mapOpponent chars[0], mapMe chars[2]) :: acc\n",
    "\n",
    "let input = \n",
    "    readLines inputFile\n",
    "    |> List.fold parseLines []\n",
    "    |> List.rev\n",
    "\n",
    "let play o m =\n",
    "    match (o, m) with\n",
    "    | ('R', 'R') -> 1 + 3\n",
    "    | ('P', 'R') -> 1 + 0\n",
    "    | ('S', 'R') -> 1 + 6\n",
    "    | ('R', 'P') -> 2 + 6\n",
    "    | ('P', 'P') -> 2 + 3\n",
    "    | ('S', 'P') -> 2 + 0\n",
    "    | ('R', 'S') -> 3 + 0\n",
    "    | ('P', 'S') -> 3 + 6\n",
    "    | ('S', 'S') -> 3 + 3\n",
    "    | _ -> raise (System.ArgumentException($\"Unexpected combination {o} {m}!\"))\n",
    "\n",
    "let totalScore =\n",
    "    input\n",
    "    |> List.sumBy (fun (o, m) -> play o m)\n",
    "\n",
    "$\"Total score is {totalScore}.\""
   ]
  }
 ],
 "metadata": {
  "kernelspec": {
   "display_name": ".NET (C#)",
   "language": "C#",
   "name": ".net-csharp"
  },
  "language_info": {
   "file_extension": ".cs",
   "mimetype": "text/x-csharp",
   "name": "C#",
   "pygments_lexer": "csharp",
   "version": "9.0"
  },
  "orig_nbformat": 4
 },
 "nbformat": 4,
 "nbformat_minor": 2
}
