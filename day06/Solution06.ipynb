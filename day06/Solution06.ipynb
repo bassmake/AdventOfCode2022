{
 "cells": [
  {
   "cell_type": "code",
   "execution_count": 17,
   "metadata": {
    "dotnet_interactive": {
     "language": "fsharp"
    },
    "vscode": {
     "languageId": "dotnet-interactive.fsharp"
    }
   },
   "outputs": [
    {
     "data": {
      "text/html": [
       "<div class=\"dni-plaintext\">1275</div>"
      ]
     },
     "metadata": {},
     "output_type": "display_data"
    }
   ],
   "source": [
    "// let inputFile = \"example.txt\"\n",
    "let example1 = \"bvwbjplbgvbhsrlpgdmjqwftvncz\"\n",
    "let example2 = \"nppdvjthqldpwncqszvftbrmjlhg\"\n",
    "let example3 = \"nznrnfrfntjfmvfwmzdfjlvtqnbhcprsg\"\n",
    "let example4 = \"zcfzfwzzqfrljwzlrfnpqdbhtmscgvjw\"\n",
    "\n",
    "let input = List.ofSeq(System.IO.File.ReadLines(\"input.txt\")) |> List.head\n",
    "\n",
    "let findMarker input =\n",
    "    List.ofSeq input\n",
    "    |> List.pairwise\n",
    "\n",
    "let createGroups input = \n",
    "    List.ofSeq input\n",
    "    |> List.pairwise\n",
    "    |> List.pairwise\n",
    "    |> List.pairwise\n",
    "    |> List.map (fun (((f1, f2), _), (_, (s1, s2))) -> Set.ofSeq [f1; f2; s1; s2])\n",
    "    \n",
    "createGroups example1\n",
    "\n",
    "4 + (createGroups input |> List.findIndex (fun items -> Seq.length items = 4))\n"
   ]
  },
  {
   "cell_type": "code",
   "execution_count": null,
   "metadata": {
    "dotnet_interactive": {
     "language": "fsharp"
    },
    "vscode": {
     "languageId": "dotnet-interactive.fsharp"
    }
   },
   "outputs": [],
   "source": [
    "|"
   ]
  }
 ],
 "metadata": {
  "kernelspec": {
   "display_name": ".NET (C#)",
   "language": "C#",
   "name": ".net-csharp"
  },
  "language_info": {
   "file_extension": ".cs",
   "mimetype": "text/x-csharp",
   "name": "C#",
   "pygments_lexer": "csharp",
   "version": "9.0"
  },
  "orig_nbformat": 4
 },
 "nbformat": 4,
 "nbformat_minor": 2
}
