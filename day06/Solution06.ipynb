{
 "cells": [
  {
   "cell_type": "code",
   "execution_count": 53,
   "metadata": {
    "dotnet_interactive": {
     "language": "fsharp"
    },
    "vscode": {
     "languageId": "dotnet-interactive.fsharp"
    }
   },
   "outputs": [
    {
     "name": "stdout",
     "output_type": "stream",
     "text": [
      "Part1:\n",
      "example1: 5\n",
      "example2: 6\n",
      "example3: 10\n",
      "example4: 11\n",
      "solution: 1275\n",
      "Part2:\n",
      "example1: 19\n",
      "example2: 23\n",
      "example3: 23\n",
      "example4: 29\n",
      "example5: 26\n",
      "solution: 3605\n"
     ]
    }
   ],
   "source": [
    "let example1 = \"bvwbjplbgvbhsrlpgdmjqwftvncz\"\n",
    "let example2 = \"nppdvjthqldpwncqszvftbrmjlhg\"\n",
    "let example3 = \"nznrnfrfntjfmvfwmzdfjlvtqnbhcprsg\"\n",
    "let example4 = \"zcfzfwzzqfrljwzlrfnpqdbhtmscgvjw\"\n",
    "\n",
    "let exampleA = \"mjqjpqmgbljsphdztnvjfqwrcgsmlb\"\n",
    "let exampleB = \"bvwbjplbgvbhsrlpgdmjqwftvncz\"\n",
    "let exampleC = \"nppdvjthqldpwncqszvftbrmjlhg\"\n",
    "let exampleD = \"nznrnfrfntjfmvfwmzdfjlvtqnbhcprsg\"\n",
    "let exampleE = \"zcfzfwzzqfrljwzlrfnpqdbhtmscgvjw\"\n",
    "\n",
    "let input = List.ofSeq(System.IO.File.ReadLines(\"input.txt\")) |> List.head\n",
    "\n",
    "let solve size signal =\n",
    "    List.ofSeq signal\n",
    "    |> List.windowed size\n",
    "    |> List.map Set.ofList \n",
    "    |> List.findIndex (fun items -> Seq.length items = size)\n",
    "    |> (+) size\n",
    "\n",
    "printfn $\"Part1:\"\n",
    "printfn $\"example1: {solve 4 example1}\"\n",
    "printfn $\"example2: {solve 4 example2}\"\n",
    "printfn $\"example3: {solve 4 example3}\"\n",
    "printfn $\"example4: {solve 4 example4}\"\n",
    "printfn $\"solution: {solve 4 input}\"\n",
    "printfn\n",
    "printfn $\"Part2:\"\n",
    "printfn $\"example1: {solve 14 exampleA}\"\n",
    "printfn $\"example2: {solve 14 exampleB}\"\n",
    "printfn $\"example3: {solve 14 exampleC}\"\n",
    "printfn $\"example4: {solve 14 exampleD}\"\n",
    "printfn $\"example5: {solve 14 exampleE}\"\n",
    "printfn $\"solution: {solve 14 input}\""
   ]
  }
 ],
 "metadata": {
  "kernelspec": {
   "display_name": ".NET (C#)",
   "language": "C#",
   "name": ".net-csharp"
  },
  "language_info": {
   "file_extension": ".cs",
   "mimetype": "text/x-csharp",
   "name": "C#",
   "pygments_lexer": "csharp",
   "version": "9.0"
  },
  "orig_nbformat": 4
 },
 "nbformat": 4,
 "nbformat_minor": 2
}
