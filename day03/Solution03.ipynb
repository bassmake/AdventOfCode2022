{
 "cells": [
  {
   "cell_type": "code",
   "execution_count": 19,
   "metadata": {
    "dotnet_interactive": {
     "language": "fsharp"
    },
    "vscode": {
     "languageId": "dotnet-interactive.fsharp"
    }
   },
   "outputs": [
    {
     "data": {
      "text/plain": [
       "Sum of priorities is 7716"
      ]
     },
     "metadata": {},
     "output_type": "display_data"
    }
   ],
   "source": [
    "// let inputFile = \"example1.txt\"\n",
    "let inputFile = \"input1.txt\"\n",
    "\n",
    "let readLines filePath = List.ofSeq(System.IO.File.ReadLines(filePath))\n",
    "\n",
    "let parseLines acc line =\n",
    "    let chars = Seq.toList line\n",
    "    let half = int (Seq.length chars / 2)\n",
    "    let split = List.splitAt half chars\n",
    "    split :: acc // for Part Two\n",
    "\n",
    "let input = \n",
    "    readLines inputFile\n",
    "    |> List.fold parseLines []\n",
    "    |> List.rev\n",
    "\n",
    "let priority item = \n",
    "    let number = (int item) - 96\n",
    "    if number > 0 then number\n",
    "    else number + 58\n",
    "\n",
    "$\"a={priority 'a'}, z={priority 'z'}, A={priority 'A'}, Z={priority 'Z'}\"\n",
    "\n",
    "let commonItems (first, second) =\n",
    "    Set.intersect (Set.ofList first) (Set.ofList second) |> List.ofSeq\n",
    "\n",
    "let totalSum =\n",
    "    input\n",
    "    |> List.map commonItems\n",
    "    |> List.map (fun l -> List.map priority l)\n",
    "    |> List.map List.sum\n",
    "    |> List.sum\n",
    "\n",
    "$\"Sum of priorities is {totalSum}\"\n",
    "\n",
    "\n",
    "\n"
   ]
  },
  {
   "cell_type": "code",
   "execution_count": null,
   "metadata": {
    "dotnet_interactive": {
     "language": "fsharp"
    },
    "vscode": {
     "languageId": "dotnet-interactive.fsharp"
    }
   },
   "outputs": [
    {
     "data": {
      "text/plain": [
       "Sum of priorities is 7716"
      ]
     },
     "metadata": {},
     "output_type": "display_data"
    }
   ],
   "source": [
    "// let inputFile = \"example1.txt\"\n",
    "let inputFile = \"input1.txt\"\n",
    "\n",
    "let readLines filePath = List.ofSeq(System.IO.File.ReadLines(filePath))\n",
    "\n",
    "let parseLines acc line =\n",
    "    let chars = Seq.toList line\n",
    "    let half = int (Seq.length chars / 2)\n",
    "    let split = List.splitAt half chars\n",
    "    split :: acc // for Part Two\n",
    "\n",
    "let input = \n",
    "    readLines inputFile\n",
    "    |> List.fold parseLines []\n",
    "    |> List.rev\n",
    "\n",
    "let priority item = \n",
    "    let number = (int item) - 96\n",
    "    if number > 0 then number\n",
    "    else number + 58\n",
    "\n",
    "$\"a={priority 'a'}, z={priority 'z'}, A={priority 'A'}, Z={priority 'Z'}\"\n",
    "\n",
    "let commonItems (first, second) =\n",
    "    Set.intersect (Set.ofList first) (Set.ofList second) |> List.ofSeq\n",
    "\n",
    "let totalSum =\n",
    "    input\n",
    "    |> List.map commonItems\n",
    "    |> List.map (fun l -> List.map priority l)\n",
    "    |> List.map List.sum\n",
    "    |> List.sum\n",
    "\n",
    "$\"Sum of priorities is {totalSum}\"\n",
    "\n",
    "\n",
    "\n"
   ]
  }
 ],
 "metadata": {
  "kernelspec": {
   "display_name": ".NET (C#)",
   "language": "C#",
   "name": ".net-csharp"
  },
  "language_info": {
   "file_extension": ".cs",
   "mimetype": "text/x-csharp",
   "name": "C#",
   "pygments_lexer": "csharp",
   "version": "9.0"
  },
  "orig_nbformat": 4
 },
 "nbformat": 4,
 "nbformat_minor": 2
}
