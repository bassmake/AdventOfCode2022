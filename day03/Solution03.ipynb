{
 "cells": [
  {
   "cell_type": "code",
   "execution_count": null,
   "metadata": {
    "dotnet_interactive": {
     "language": "fsharp"
    }
   },
   "outputs": [],
   "source": [
    "// let inputFile = \"example1.txt\"\n",
    "let inputFile = \"input1.txt\"\n",
    "\n",
    "let readLines filePath = List.ofSeq(System.IO.File.ReadLines(filePath))\n",
    "\n",
    "let parseLines acc line =\n",
    "    let chars = Seq.toList line\n",
    "    let half = int (Seq.length chars / 2)\n",
    "    let split = List.splitAt half chars\n",
    "    split :: acc\n",
    "\n",
    "let input = \n",
    "    readLines inputFile\n",
    "    |> List.fold parseLines []\n",
    "    |> List.rev\n",
    "\n",
    "let priority item = \n",
    "    let number = (int item) - 96\n",
    "    if number > 0 then number\n",
    "    else number + 58\n",
    "\n",
    "$\"a={priority 'a'}, z={priority 'z'}, A={priority 'A'}, Z={priority 'Z'}\"\n",
    "\n",
    "let commonItems (first, second) =\n",
    "    Set.intersect (Set.ofList first) (Set.ofList second) |> List.ofSeq\n",
    "\n",
    "let totalSum =\n",
    "    input\n",
    "    |> List.map commonItems\n",
    "    |> List.map (fun l -> List.map priority l)\n",
    "    |> List.map List.sum\n",
    "    |> List.sum\n",
    "\n",
    "$\"Sum of priorities is {totalSum}\"\n",
    "\n",
    "\n",
    "\n"
   ]
  },
  {
   "cell_type": "code",
   "execution_count": null,
   "metadata": {
    "dotnet_interactive": {
     "language": "fsharp"
    }
   },
   "outputs": [],
   "source": [
    "// let inputFile = \"example2.txt\"\n",
    "let inputFile = \"input2.txt\"\n",
    "\n",
    "let readLines filePath = List.ofSeq(System.IO.File.ReadLines(filePath))\n",
    "\n",
    "let groupLines acc line =\n",
    "    match acc with\n",
    "    | [] -> [line] :: []\n",
    "    | head :: tail -> if (List.length head) = 3 then [line] :: acc\n",
    "                      else (List.append head [line]) :: tail\n",
    "\n",
    "let input = \n",
    "    readLines inputFile\n",
    "    |> List.fold groupLines []\n",
    "    |> List.rev\n",
    "\n",
    "$\"Read input: {input}\"\n",
    "\n",
    "let priority item = \n",
    "    let number = (int item) - 96\n",
    "    if number > 0 then number\n",
    "    else number + 58\n",
    "\n",
    "// $\"a={priority 'a'}, z={priority 'z'}, A={priority 'A'}, Z={priority 'Z'}\"\n",
    "\n",
    "let commonItem group =\n",
    "    let items = group \n",
    "               |> List.map List.ofSeq\n",
    "               |> List.map Set.ofList\n",
    "               |> Set.intersectMany\n",
    "               |> List.ofSeq\n",
    "\n",
    "    if List.length items <> 1 then raise (System.ArgumentException($\"Unexpected size of common items: {items}\"))\n",
    "    List.head items\n",
    "\n",
    "commonItem [\"aaa\";\"abc\";\"daf\"]\n",
    "\n",
    "let totalSum =\n",
    "    input\n",
    "    |> List.map commonItem\n",
    "    |> List.map priority \n",
    "    |> List.sum\n",
    "\n",
    "$\"Sum of badges is {totalSum}\"\n",
    "\n",
    "\n",
    "\n"
   ]
  }
 ],
 "metadata": {
  "kernelspec": {
   "display_name": ".NET (C#)",
   "language": "C#",
   "name": ".net-csharp"
  },
  "polyglot_notebook": {
   "kernelInfo": {
    "defaultKernelName": "csharp",
    "items": [
     {
      "aliases": [
       "c#",
       "C#"
      ],
      "languageName": "C#",
      "name": "csharp"
     },
     {
      "aliases": [],
      "name": ".NET"
     },
     {
      "aliases": [
       "f#",
       "F#"
      ],
      "languageName": "F#",
      "name": "fsharp"
     },
     {
      "aliases": [],
      "languageName": "HTML",
      "name": "html"
     },
     {
      "aliases": [
       "js"
      ],
      "languageName": "JavaScript",
      "name": "javascript"
     },
     {
      "aliases": [],
      "languageName": "KQL",
      "name": "kql"
     },
     {
      "aliases": [],
      "languageName": "Mermaid",
      "name": "mermaid"
     },
     {
      "aliases": [
       "powershell"
      ],
      "languageName": "PowerShell",
      "name": "pwsh"
     },
     {
      "aliases": [],
      "languageName": "SQL",
      "name": "sql"
     },
     {
      "aliases": [],
      "name": "value"
     },
     {
      "aliases": [
       "frontend"
      ],
      "name": "vscode"
     },
     {
      "aliases": [],
      "name": "webview"
     }
    ]
   }
  }
 },
 "nbformat": 4,
 "nbformat_minor": 2
}
