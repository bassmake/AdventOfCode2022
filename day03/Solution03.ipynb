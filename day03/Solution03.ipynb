{
 "cells": [
  {
   "cell_type": "code",
   "execution_count": 8,
   "metadata": {
    "dotnet_interactive": {
     "language": "fsharp"
    },
    "vscode": {
     "languageId": "dotnet-interactive.fsharp"
    }
   },
   "outputs": [
    {
     "data": {
      "text/plain": [
       "a=1, z=26, A=27, Z=52"
      ]
     },
     "metadata": {},
     "output_type": "display_data"
    }
   ],
   "source": [
    "let inputFile = \"example.txt\"\n",
    "// let inputFile = \"input.txt\"\n",
    "\n",
    "let readLines filePath = List.ofSeq(System.IO.File.ReadLines(filePath))\n",
    "\n",
    "let parseLines acc line =\n",
    "    let chars = Seq.toList line\n",
    "    let half = int (Seq.length chars / 2)\n",
    "    let split = List.splitAt half chars\n",
    "    split :: acc // for Part Two\n",
    "\n",
    "let input = \n",
    "    readLines inputFile\n",
    "    |> List.fold parseLines []\n",
    "    |> List.rev\n",
    "\n",
    "let priority item = \n",
    "    let number = (int item) - 96\n",
    "    if number > 0 then number\n",
    "    else number + 58\n",
    "\n",
    "$\"a={priority 'a'}, z={priority 'z'}, A={priority 'A'}, Z={priority 'Z'}\"\n",
    "\n",
    "\n"
   ]
  }
 ],
 "metadata": {
  "kernelspec": {
   "display_name": ".NET (C#)",
   "language": "C#",
   "name": ".net-csharp"
  },
  "language_info": {
   "file_extension": ".cs",
   "mimetype": "text/x-csharp",
   "name": "C#",
   "pygments_lexer": "csharp",
   "version": "9.0"
  },
  "orig_nbformat": 4
 },
 "nbformat": 4,
 "nbformat_minor": 2
}
