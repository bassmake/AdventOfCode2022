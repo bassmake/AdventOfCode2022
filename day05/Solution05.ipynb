{
 "cells": [
  {
   "cell_type": "code",
   "execution_count": null,
   "metadata": {
    "dotnet_interactive": {
     "language": "fsharp"
    },
    "vscode": {
     "languageId": "dotnet-interactive.fsharp"
    }
   },
   "outputs": [],
   "source": [
    "// let inputFile = \"example.txt\"\n",
    "let inputFile = \"input.txt\"\n",
    " \n",
    "let readLines filePath = List.ofSeq(System.IO.File.ReadLines(filePath))\n",
    "\n",
    "let splitString (pivot: char) (input: string) = \n",
    "    let list = Seq.toList input\n",
    "    let index = List.findIndex (fun  c -> c = pivot) list\n",
    "    let (first, second) = List.splitAt index list\n",
    "    (System.String.Concat(first), System.String.Concat(second.Tail))\n",
    "\n",
    "splitString ',' \"2-8,3-7\"\n",
    "\n",
    "\n",
    "let parseLines acc line = \n",
    "    let (first, second) = splitString ',' line\n",
    "    let (firstFrom, firstTo) = splitString '-' first\n",
    "    let (secondFrom, secondTo) = splitString '-' second\n",
    "    ((int firstFrom, int firstTo), (int secondFrom, int secondTo)) :: acc\n",
    "\n",
    "parseLines [] \"2-8,3-7\"\n",
    "\n",
    "let input = \n",
    "    readLines inputFile\n",
    "    |> List.fold parseLines []\n",
    "    |> List.rev\n",
    "\n",
    "input"
   ]
  }
 ],
 "metadata": {
  "kernelspec": {
   "display_name": ".NET (C#)",
   "language": "C#",
   "name": ".net-csharp"
  },
  "language_info": {
   "file_extension": ".cs",
   "mimetype": "text/x-csharp",
   "name": "C#",
   "pygments_lexer": "csharp",
   "version": "9.0"
  },
  "orig_nbformat": 4
 },
 "nbformat": 4,
 "nbformat_minor": 2
}
