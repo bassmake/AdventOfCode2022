{
 "cells": [
  {
   "cell_type": "code",
   "execution_count": 25,
   "metadata": {
    "dotnet_interactive": {
     "language": "fsharp"
    },
    "vscode": {
     "languageId": "dotnet-interactive.fsharp"
    }
   },
   "outputs": [
    {
     "data": {
      "text/html": [
       "<table><thead><tr><th><i>index</i></th><th>value</th></tr></thead><tbody><tr><td>0</td><td><div class=\"dni-plaintext\">[ P, L, M, N, W, V, B, H ]</div></td></tr><tr><td>1</td><td><div class=\"dni-plaintext\">[ H, Q, M ]</div></td></tr><tr><td>2</td><td><div class=\"dni-plaintext\">[ L, M, Q, F, G, B, D, N ]</div></td></tr><tr><td>3</td><td><div class=\"dni-plaintext\">[ G, W, M, Q, F, T, Z ]</div></td></tr><tr><td>4</td><td><div class=\"dni-plaintext\">[ P, H, T, M ]</div></td></tr><tr><td>5</td><td><div class=\"dni-plaintext\">[ T, G, H, D, J, M, B, C ]</div></td></tr><tr><td>6</td><td><div class=\"dni-plaintext\">[ R, V, F, B, N, M ]</div></td></tr><tr><td>7</td><td><div class=\"dni-plaintext\">[ S, G, R, M, H, L, P ]</div></td></tr><tr><td>8</td><td><div class=\"dni-plaintext\">[ N, C, B, D, P ]</div></td></tr></tbody></table>"
      ]
     },
     "metadata": {},
     "output_type": "display_data"
    }
   ],
   "source": [
    "// let inputFile = \"example.txt\"\n",
    "let inputFile = \"input.txt\"\n",
    " \n",
    "let readLines filePath = List.ofSeq(System.IO.File.ReadLines(filePath))\n",
    "\n",
    "let parseStackLine line = \n",
    "    Seq.toList line\n",
    "    |> List.chunkBySize 4\n",
    "    |> List.map (fun r ->  List.item 1 r)\n",
    "\n",
    "parseStackLine \"    [D]    \"\n",
    "\n",
    "let addToStack stackToAdd stacks =\n",
    "    let init = List.init (List.length stackToAdd) (fun _ -> [])\n",
    "    let original = if stacks = [] then init else stacks\n",
    "    stackToAdd\n",
    "    |> List.mapi (fun i s -> if s = ' ' then (List.item i original)  else s :: (List.item i original))\n",
    "\n",
    "// addToStack ['A'; 'B'; ' '] []\n",
    "// addToStack ['E'; 'B'; ' '] [['A']; ['B']; ['C']]\n",
    "\n",
    "let parseStacks stacks line = \n",
    "    let parsed = parseStackLine line\n",
    "    addToStack parsed stacks\n",
    "\n",
    "parseStacks [] \"    [D]    \"\n",
    "\n",
    "let stacks = \n",
    "    readLines inputFile\n",
    "    |> List.takeWhile (fun r -> not(r.StartsWith(\" 1 \")))\n",
    "    |> List.fold parseStacks []\n",
    "    |> List.map (fun s -> List.rev s)\n",
    "\n",
    "stacks"
   ]
  },
  {
   "cell_type": "code",
   "execution_count": 26,
   "metadata": {
    "dotnet_interactive": {
     "language": "fsharp"
    },
    "vscode": {
     "languageId": "dotnet-interactive.fsharp"
    }
   },
   "outputs": [
    {
     "data": {
      "text/html": [
       "<table><thead><tr><th><i>index</i></th><th>Item1</th><th>Item2</th><th>Item3</th></tr></thead><tbody><tr><td>0</td><td><div class=\"dni-plaintext\">8</div></td><td><div class=\"dni-plaintext\">3</div></td><td><div class=\"dni-plaintext\">2</div></td></tr><tr><td>1</td><td><div class=\"dni-plaintext\">1</div></td><td><div class=\"dni-plaintext\">9</div></td><td><div class=\"dni-plaintext\">5</div></td></tr><tr><td>2</td><td><div class=\"dni-plaintext\">5</div></td><td><div class=\"dni-plaintext\">4</div></td><td><div class=\"dni-plaintext\">7</div></td></tr><tr><td>3</td><td><div class=\"dni-plaintext\">6</div></td><td><div class=\"dni-plaintext\">1</div></td><td><div class=\"dni-plaintext\">4</div></td></tr><tr><td>4</td><td><div class=\"dni-plaintext\">8</div></td><td><div class=\"dni-plaintext\">6</div></td><td><div class=\"dni-plaintext\">8</div></td></tr><tr><td>5</td><td><div class=\"dni-plaintext\">8</div></td><td><div class=\"dni-plaintext\">4</div></td><td><div class=\"dni-plaintext\">5</div></td></tr><tr><td>6</td><td><div class=\"dni-plaintext\">4</div></td><td><div class=\"dni-plaintext\">9</div></td><td><div class=\"dni-plaintext\">5</div></td></tr><tr><td>7</td><td><div class=\"dni-plaintext\">4</div></td><td><div class=\"dni-plaintext\">7</div></td><td><div class=\"dni-plaintext\">9</div></td></tr><tr><td>8</td><td><div class=\"dni-plaintext\">7</div></td><td><div class=\"dni-plaintext\">7</div></td><td><div class=\"dni-plaintext\">2</div></td></tr><tr><td>9</td><td><div class=\"dni-plaintext\">4</div></td><td><div class=\"dni-plaintext\">5</div></td><td><div class=\"dni-plaintext\">2</div></td></tr><tr><td>10</td><td><div class=\"dni-plaintext\">11</div></td><td><div class=\"dni-plaintext\">8</div></td><td><div class=\"dni-plaintext\">3</div></td></tr><tr><td>11</td><td><div class=\"dni-plaintext\">3</div></td><td><div class=\"dni-plaintext\">9</div></td><td><div class=\"dni-plaintext\">7</div></td></tr><tr><td>12</td><td><div class=\"dni-plaintext\">11</div></td><td><div class=\"dni-plaintext\">2</div></td><td><div class=\"dni-plaintext\">8</div></td></tr><tr><td>13</td><td><div class=\"dni-plaintext\">13</div></td><td><div class=\"dni-plaintext\">8</div></td><td><div class=\"dni-plaintext\">4</div></td></tr><tr><td>14</td><td><div class=\"dni-plaintext\">11</div></td><td><div class=\"dni-plaintext\">5</div></td><td><div class=\"dni-plaintext\">6</div></td></tr><tr><td>15</td><td><div class=\"dni-plaintext\">8</div></td><td><div class=\"dni-plaintext\">2</div></td><td><div class=\"dni-plaintext\">4</div></td></tr><tr><td>16</td><td><div class=\"dni-plaintext\">1</div></td><td><div class=\"dni-plaintext\">5</div></td><td><div class=\"dni-plaintext\">4</div></td></tr><tr><td>17</td><td><div class=\"dni-plaintext\">1</div></td><td><div class=\"dni-plaintext\">3</div></td><td><div class=\"dni-plaintext\">2</div></td></tr><tr><td>18</td><td><div class=\"dni-plaintext\">2</div></td><td><div class=\"dni-plaintext\">2</div></td><td><div class=\"dni-plaintext\">1</div></td></tr><tr><td>19</td><td><div class=\"dni-plaintext\">2</div></td><td><div class=\"dni-plaintext\">8</div></td><td><div class=\"dni-plaintext\">5</div></td></tr><tr><td colspan=\"4\"><i>... (more)</i></td></tr></tbody></table>"
      ]
     },
     "metadata": {},
     "output_type": "display_data"
    }
   ],
   "source": [
    "open System.Text.RegularExpressions\n",
    "\n",
    "let rx = Regex(@\"move (\\d+) from (\\d+) to (\\d+)\", RegexOptions.Compiled)\n",
    "\n",
    "let parseInstuructionsRow row =\n",
    "    let matches = List.ofSeq(seq {\n",
    "        for m in rx.Matches(row) do\n",
    "            yield m\n",
    "    })\n",
    "    if List.length matches <> 1 then raise (System.ArgumentException($\"Unexpected instructions {row}!\"))\n",
    "    let data = List.tail(List.ofSeq(seq { \n",
    "        for g in matches.Head.Groups do\n",
    "            yield g.ToString().Trim()\n",
    "    }))\n",
    "    if List.length data <> 3 then raise (System.ArgumentException($\"Unexpected instructions {row}!\"))\n",
    "    (List.item 0 data |> int, List.item 1 data |> int, List.item 2 data |> int)\n",
    "\n",
    "parseInstuructionsRow \"move 3 from 2 to 1\"\n",
    "\n",
    "let parseInstructions instructions line = \n",
    "    let parsed = parseInstuructionsRow line\n",
    "    parsed :: instructions\n",
    "\n",
    "parseInstructions [] \"move 1 from 2 to 1\"\n",
    "\n",
    "let instructions = \n",
    "    readLines inputFile\n",
    "    |> List.rev \n",
    "    |> List.takeWhile (fun r -> r <> \"\")\n",
    "    |> List.fold parseInstructions []\n",
    "\n",
    "instructions"
   ]
  },
  {
   "cell_type": "code",
   "execution_count": 28,
   "metadata": {
    "dotnet_interactive": {
     "language": "fsharp"
    },
    "vscode": {
     "languageId": "dotnet-interactive.fsharp"
    }
   },
   "outputs": [
    {
     "data": {
      "text/plain": [
       "GMPMLWNMG"
      ]
     },
     "metadata": {},
     "output_type": "display_data"
    }
   ],
   "source": [
    "let move stacks (amount, fromS, toS) = \n",
    "    let fromIndex = fromS - 1\n",
    "    let toIndex = toS - 1\n",
    "    let stackFrom = List.item fromIndex stacks\n",
    "    let stackTo = List.item toIndex stacks\n",
    "    let (moving, newStackFrom) = List.splitAt amount stackFrom\n",
    "    // let newStackTo = (List.rev moving) @ stackTo\n",
    "    let newStackTo = moving @ stackTo\n",
    "    stacks\n",
    "    |> List.updateAt fromIndex newStackFrom\n",
    "    |> List.updateAt toIndex newStackTo\n",
    "\n",
    "move [['A'; 'C']; ['D']] (2, 1, 2) \n",
    "\n",
    "let stacksAfter = instructions |> List.fold move stacks\n",
    "\n",
    "let topStack = stacksAfter |> List.map (fun s -> List.head s)\n",
    "\n",
    "System.String.Concat(Array.ofList(topStack))"
   ]
  }
 ],
 "metadata": {
  "kernelspec": {
   "display_name": ".NET (C#)",
   "language": "C#",
   "name": ".net-csharp"
  },
  "language_info": {
   "file_extension": ".cs",
   "mimetype": "text/x-csharp",
   "name": "C#",
   "pygments_lexer": "csharp",
   "version": "9.0"
  },
  "orig_nbformat": 4
 },
 "nbformat": 4,
 "nbformat_minor": 2
}
