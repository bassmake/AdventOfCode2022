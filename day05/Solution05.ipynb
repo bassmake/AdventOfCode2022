{
 "cells": [
  {
   "cell_type": "code",
   "execution_count": null,
   "metadata": {
    "dotnet_interactive": {
     "language": "fsharp"
    }
   },
   "outputs": [],
   "source": [
    "// let inputFile = \"example.txt\"\n",
    "let inputFile = \"input.txt\"\n",
    " \n",
    "let readLines filePath = List.ofSeq(System.IO.File.ReadLines(filePath))\n",
    "\n",
    "let parseStackLine line = \n",
    "    Seq.toList line\n",
    "    |> List.chunkBySize 4\n",
    "    |> List.map (fun r ->  List.item 1 r)\n",
    "\n",
    "parseStackLine \"    [D]    \"\n",
    "\n",
    "let addToStack stackToAdd stacks =\n",
    "    let init = List.init (List.length stackToAdd) (fun _ -> [])\n",
    "    let original = if stacks = [] then init else stacks\n",
    "    stackToAdd\n",
    "    |> List.mapi (fun i s -> if s = ' ' then (List.item i original)  else s :: (List.item i original))\n",
    "\n",
    "// addToStack ['A'; 'B'; ' '] []\n",
    "// addToStack ['E'; 'B'; ' '] [['A']; ['B']; ['C']]\n",
    "\n",
    "let parseStacks stacks line = \n",
    "    let parsed = parseStackLine line\n",
    "    addToStack parsed stacks\n",
    "\n",
    "parseStacks [] \"    [D]    \"\n",
    "\n",
    "let stacks = \n",
    "    readLines inputFile\n",
    "    |> List.takeWhile (fun r -> not(r.StartsWith(\" 1 \")))\n",
    "    |> List.fold parseStacks []\n",
    "    |> List.map (fun s -> List.rev s)\n",
    "\n",
    "stacks"
   ]
  },
  {
   "cell_type": "code",
   "execution_count": null,
   "metadata": {
    "dotnet_interactive": {
     "language": "fsharp"
    }
   },
   "outputs": [],
   "source": [
    "open System.Text.RegularExpressions\n",
    "\n",
    "let rx = Regex(@\"move (\\d+) from (\\d+) to (\\d+)\", RegexOptions.Compiled)\n",
    "\n",
    "let parseInstuructionsRow row =\n",
    "    let matches = List.ofSeq(seq {\n",
    "        for m in rx.Matches(row) do\n",
    "            yield m\n",
    "    })\n",
    "    if List.length matches <> 1 then raise (System.ArgumentException($\"Unexpected instructions {row}!\"))\n",
    "    let data = List.tail(List.ofSeq(seq { \n",
    "        for g in matches.Head.Groups do\n",
    "            yield g.ToString().Trim()\n",
    "    }))\n",
    "    if List.length data <> 3 then raise (System.ArgumentException($\"Unexpected instructions {row}!\"))\n",
    "    (List.item 0 data |> int, List.item 1 data |> int, List.item 2 data |> int)\n",
    "\n",
    "parseInstuructionsRow \"move 3 from 2 to 1\"\n",
    "\n",
    "let parseInstructions instructions line = \n",
    "    let parsed = parseInstuructionsRow line\n",
    "    parsed :: instructions\n",
    "\n",
    "parseInstructions [] \"move 1 from 2 to 1\"\n",
    "\n",
    "let instructions = \n",
    "    readLines inputFile\n",
    "    |> List.rev \n",
    "    |> List.takeWhile (fun r -> r <> \"\")\n",
    "    |> List.fold parseInstructions []\n",
    "\n",
    "instructions"
   ]
  },
  {
   "cell_type": "code",
   "execution_count": null,
   "metadata": {
    "dotnet_interactive": {
     "language": "fsharp"
    }
   },
   "outputs": [],
   "source": [
    "let move stacks (amount, fromS, toS) = \n",
    "    let fromIndex = fromS - 1\n",
    "    let toIndex = toS - 1\n",
    "    let stackFrom = List.item fromIndex stacks\n",
    "    let stackTo = List.item toIndex stacks\n",
    "    let (moving, newStackFrom) = List.splitAt amount stackFrom\n",
    "    // let newStackTo = (List.rev moving) @ stackTo\n",
    "    let newStackTo = moving @ stackTo\n",
    "    stacks\n",
    "    |> List.updateAt fromIndex newStackFrom\n",
    "    |> List.updateAt toIndex newStackTo\n",
    "\n",
    "move [['A'; 'C']; ['D']] (2, 1, 2) \n",
    "\n",
    "let stacksAfter = instructions |> List.fold move stacks\n",
    "\n",
    "let topStack = stacksAfter |> List.map (fun s -> List.head s)\n",
    "\n",
    "System.String.Concat(Array.ofList(topStack))"
   ]
  }
 ],
 "metadata": {
  "kernelspec": {
   "display_name": ".NET (C#)",
   "language": "C#",
   "name": ".net-csharp"
  },
  "polyglot_notebook": {
   "kernelInfo": {
    "defaultKernelName": "csharp",
    "items": [
     {
      "aliases": [
       "c#",
       "C#"
      ],
      "languageName": "C#",
      "name": "csharp"
     },
     {
      "aliases": [],
      "name": ".NET"
     },
     {
      "aliases": [
       "f#",
       "F#"
      ],
      "languageName": "F#",
      "name": "fsharp"
     },
     {
      "aliases": [],
      "languageName": "HTML",
      "name": "html"
     },
     {
      "aliases": [
       "js"
      ],
      "languageName": "JavaScript",
      "name": "javascript"
     },
     {
      "aliases": [],
      "languageName": "KQL",
      "name": "kql"
     },
     {
      "aliases": [],
      "languageName": "Mermaid",
      "name": "mermaid"
     },
     {
      "aliases": [
       "powershell"
      ],
      "languageName": "PowerShell",
      "name": "pwsh"
     },
     {
      "aliases": [],
      "languageName": "SQL",
      "name": "sql"
     },
     {
      "aliases": [],
      "name": "value"
     },
     {
      "aliases": [
       "frontend"
      ],
      "name": "vscode"
     },
     {
      "aliases": [],
      "name": "webview"
     }
    ]
   }
  }
 },
 "nbformat": 4,
 "nbformat_minor": 2
}
