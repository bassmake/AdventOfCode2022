{
 "cells": [
  {
   "cell_type": "code",
   "execution_count": 8,
   "metadata": {
    "dotnet_interactive": {
     "language": "fsharp"
    },
    "vscode": {
     "languageId": "dotnet-interactive.fsharp"
    }
   },
   "outputs": [
    {
     "data": {
      "text/html": [
       "<table><thead><tr><th><i>index</i></th><th>value</th></tr></thead><tbody><tr><td>0</td><td><div class=\"dni-plaintext\">[ A ]</div></td></tr><tr><td>1</td><td><div class=\"dni-plaintext\">[ B ]</div></td></tr><tr><td>2</td><td><div class=\"dni-plaintext\">[  ]</div></td></tr></tbody></table>"
      ]
     },
     "metadata": {},
     "output_type": "display_data"
    }
   ],
   "source": [
    "let inputFile = \"example.txt\"\n",
    "// let inputFile = \"input.txt\"\n",
    " \n",
    "let readLines filePath = List.ofSeq(System.IO.File.ReadLines(filePath))\n",
    "\n",
    "let parseStackLine line = \n",
    "    Seq.toList line\n",
    "    |> List.chunkBySize 4\n",
    "    |> List.map (fun r ->  List.item 1 r)\n",
    "\n",
    "parseStackLine \"    [D]    \"\n",
    "\n",
    "let addToStack stackToAdd stack =\n",
    "    let init = List.init (List.length stackToAdd) (fun _ -> [])\n",
    "    let original = if stack = [] then init else stack\n",
    "    stackToAdd\n",
    "    |> List.mapi (fun i s -> if s = ' ' then (List.item i original)  else s :: (List.item i original))\n",
    "\n",
    "addToStack ['A'; 'B'; ' '] []\n",
    "// addToStack ['E'; 'B'; ' '] [['A']; ['B']; ['C']]\n",
    "\n",
    "// let parseStacks stacks line = \n",
    "//     let chars = Seq.toList line\n",
    "//     match chars with \n",
    "//     | ' ' :: '1' :: ' ' :: _ -> stacks\n",
    "//     | _ -> let stackToAdd = List.chunkBySize 4 chars\n",
    "//                            |> List.map (fun r ->  List.item 1 r)\n",
    "//                            |> List.indexed\n",
    "//            match stacks with\n",
    "//            | [] -> stackToAdd\n",
    "//            | _ -> List.zip\n",
    "//            stackToAdd :: stacks\n",
    "\n",
    "// parseStacks [] \"    [D]    \"\n",
    "\n",
    "// let stacks = \n",
    "//     readLines inputFile\n",
    "//     |> List.takeWhile (fun r -> r <> \"\")\n",
    "//     |> List.fold parseStacks []\n",
    "\n",
    "// stacks"
   ]
  },
  {
   "cell_type": "code",
   "execution_count": 39,
   "metadata": {
    "dotnet_interactive": {
     "language": "fsharp"
    },
    "vscode": {
     "languageId": "dotnet-interactive.fsharp"
    }
   },
   "outputs": [
    {
     "data": {
      "text/html": [
       "<table><thead><tr><th><i>index</i></th><th>value</th></tr></thead><tbody><tr><td>0</td><td><div class=\"dni-plaintext\">[ 1, 2, 1 ]</div></td></tr><tr><td>1</td><td><div class=\"dni-plaintext\">[ 3, 1, 3 ]</div></td></tr><tr><td>2</td><td><div class=\"dni-plaintext\">[ 2, 2, 1 ]</div></td></tr><tr><td>3</td><td><div class=\"dni-plaintext\">[ 1, 1, 2 ]</div></td></tr></tbody></table>"
      ]
     },
     "metadata": {},
     "output_type": "display_data"
    }
   ],
   "source": [
    "open System.Text.RegularExpressions\n",
    "\n",
    "let rx = Regex(@\"move (\\d+) from (\\d+) to (\\d+)\", RegexOptions.Compiled)\n",
    "\n",
    "let parseInstuructionsRow row =\n",
    "    let matches = List.ofSeq(seq {\n",
    "        for m in rx.Matches(row) do\n",
    "            yield m\n",
    "    })\n",
    "    if List.length matches <> 1 then raise (System.ArgumentException($\"Unexpected instructions {row}!\"))\n",
    "    List.ofSeq(seq {\n",
    "        for g in matches.Head.Groups do\n",
    "            yield g.ToString()\n",
    "    }).Tail\n",
    "\n",
    "parseInstuructionsRow \"move 3 from 2 to 1\"\n",
    "\n",
    "let parseInstructions instructions line = \n",
    "    let parsed = parseInstuructionsRow line\n",
    "    parsed :: instructions\n",
    "\n",
    "parseInstructions [] \"move 1 from 2 to 1\"\n",
    "\n",
    "let instructions = \n",
    "    readLines inputFile\n",
    "    |> List.rev \n",
    "    |> List.takeWhile (fun r -> r <> \"\")\n",
    "    |> List.fold parseInstructions []\n",
    "\n",
    "instructions"
   ]
  },
  {
   "cell_type": "code",
   "execution_count": null,
   "metadata": {
    "dotnet_interactive": {
     "language": "fsharp"
    },
    "vscode": {
     "languageId": "dotnet-interactive.fsharp"
    }
   },
   "outputs": [],
   "source": [
    "// let move fromS toS stacks = \n",
    "//     let stackFrom = List.item (fromS - 1) stacks\n",
    "//     let stackTo = List.item (toS - 1) stacks\n",
    "//     []\n",
    "\n",
    "\n",
    "// move 1 2 [['A', ' ']]"
   ]
  }
 ],
 "metadata": {
  "kernelspec": {
   "display_name": ".NET (C#)",
   "language": "C#",
   "name": ".net-csharp"
  },
  "language_info": {
   "file_extension": ".cs",
   "mimetype": "text/x-csharp",
   "name": "C#",
   "pygments_lexer": "csharp",
   "version": "9.0"
  },
  "orig_nbformat": 4
 },
 "nbformat": 4,
 "nbformat_minor": 2
}
