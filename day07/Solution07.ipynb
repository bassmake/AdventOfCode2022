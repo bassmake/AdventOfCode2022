{
 "cells": [
  {
   "cell_type": "code",
   "execution_count": 5,
   "metadata": {
    "dotnet_interactive": {
     "language": "fsharp"
    }
   },
   "outputs": [
    {
     "data": {
      "text/html": [
       "<table><thead><tr><th>Name</th><th>Directories</th><th>Files</th></tr></thead><tbody><tr><td><div class=\"dni-plaintext\"><pre>otherDir</pre></div></td><td><div class=\"dni-plaintext\"><pre>FSharpSet&lt;Directory&gt;\n",
       "          - Name: someDir\n",
       "            Directories: FSharpSet&lt;Directory&gt;\n",
       "\n",
       "            Files: FSharpSet&lt;File&gt;\n",
       "                  - Name: test.txt\n",
       "                    Size: 123</pre></div></td><td><div class=\"dni-plaintext\"><pre>FSharpSet&lt;File&gt;\n",
       "          - Name: test.txt\n",
       "            Size: 123</pre></div></td></tr></tbody></table>"
      ]
     },
     "metadata": {},
     "output_type": "display_data"
    }
   ],
   "source": [
    "let inputFile = \"example.txt\"\n",
    "// let inputFile = \"input.txt\"\n",
    " \n",
    "let readLines filePath = List.ofSeq(System.IO.File.ReadLines(filePath))\n",
    "\n",
    "[<Struct>]\n",
    "type File = { Name: string; Size: int }\n",
    "\n",
    "type Directory = { Name: string; Directories: Set<Directory>; Files: Set<File>; }\n",
    "\n",
    "let testFile = { Name = \"test.txt\"; Size = 123 }\n",
    "let testDirectory = { Name = \"someDir\"; Directories = Set.empty; Files = Set.singleton testFile }\n",
    "{ Name = \"otherDir\"; Directories = Set.singleton testDirectory; Files = Set.singleton testFile }"
   ]
  }
 ],
 "metadata": {
  "kernelspec": {
   "display_name": ".NET (C#)",
   "language": "C#",
   "name": ".net-csharp"
  },
  "polyglot_notebook": {
   "kernelInfo": {
    "defaultKernelName": "csharp",
    "items": [
     {
      "aliases": [
       "c#",
       "C#"
      ],
      "languageName": "C#",
      "name": "csharp"
     },
     {
      "aliases": [],
      "name": ".NET"
     },
     {
      "aliases": [
       "f#",
       "F#"
      ],
      "languageName": "F#",
      "name": "fsharp"
     },
     {
      "aliases": [],
      "languageName": "HTML",
      "name": "html"
     },
     {
      "aliases": [
       "js"
      ],
      "languageName": "JavaScript",
      "name": "javascript"
     },
     {
      "aliases": [],
      "languageName": "KQL",
      "name": "kql"
     },
     {
      "aliases": [],
      "languageName": "Mermaid",
      "name": "mermaid"
     },
     {
      "aliases": [
       "powershell"
      ],
      "languageName": "PowerShell",
      "name": "pwsh"
     },
     {
      "aliases": [],
      "languageName": "SQL",
      "name": "sql"
     },
     {
      "aliases": [],
      "name": "value"
     },
     {
      "aliases": [
       "frontend"
      ],
      "name": "vscode"
     },
     {
      "aliases": [],
      "name": "webview"
     }
    ]
   }
  }
 },
 "nbformat": 4,
 "nbformat_minor": 2
}
