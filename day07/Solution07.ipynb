{
 "cells": [
  {
   "attachments": {},
   "cell_type": "markdown",
   "metadata": {},
   "source": [
    "e = 584\n",
    "a = 94853\n",
    "d = 24933642\n",
    "total = 48381165"
   ]
  },
  {
   "cell_type": "code",
   "execution_count": null,
   "metadata": {
    "dotnet_interactive": {
     "language": "fsharp"
    },
    "vscode": {
     "languageId": "polyglot-notebook"
    }
   },
   "outputs": [],
   "source": [
    "let inputFile = \"example.txt\"\n",
    "// let inputFile = \"input.txt\"\n",
    " \n",
    "let readLines filePath = List.ofSeq(System.IO.File.ReadLines(filePath))\n",
    "\n",
    "[<Struct>]\n",
    "type File = { Name: string; Size: int }\n",
    "\n",
    "type Directory = { Name: string; Directories: Set<Directory>; Files: Set<File>; }\n",
    "\n",
    "let testFile = { Name = \"test.txt\"; Size = 123 }\n",
    "let testDirectory = { Name = \"someDir\"; Directories = Set.empty; Files = Set.singleton testFile }\n",
    "\n",
    "let testDirectory2 = { Name = \"otherDir\"; Directories = Set.singleton testDirectory; Files = Set.singleton testFile }\n",
    "\n",
    "type Path = list<string>\n",
    "\n",
    "type State = { Root: Directory; Path: Path }\n",
    "\n",
    "let emptyRoot = { Name = \"/\"; Directories = Set.empty; Files = Set.empty }\n",
    "let initState = { Root = emptyRoot; Path = [] }\n",
    "\n",
    "let (|Prefix|_|) (p:string) (s:string) =\n",
    "    if s.StartsWith(p) then\n",
    "        Some(s.Substring(p.Length))\n",
    "    else\n",
    "        None\n",
    "\n",
    "let parseLines state line = \n",
    "    match (state, line) with \n",
    "    | (_, \"$ cd /\") when state = initState  -> printfn \"first line\"; state\n",
    "    | _ -> raise (System.ArgumentException($\"Unexpected line: '{line}' and state: '{state}'\"))\n",
    "\n",
    "let input = \n",
    "    readLines inputFile\n",
    "    |> List.fold parseLines initState\n",
    "\n",
    "input"
   ]
  }
 ],
 "metadata": {
  "kernelspec": {
   "display_name": ".NET (C#)",
   "language": "C#",
   "name": ".net-csharp"
  },
  "polyglot_notebook": {
   "kernelInfo": {
    "defaultKernelName": "csharp",
    "items": [
     {
      "aliases": [
       "c#",
       "C#"
      ],
      "languageName": "C#",
      "name": "csharp"
     },
     {
      "aliases": [],
      "name": ".NET"
     },
     {
      "aliases": [
       "f#",
       "F#"
      ],
      "languageName": "F#",
      "name": "fsharp"
     },
     {
      "aliases": [],
      "languageName": "HTML",
      "name": "html"
     },
     {
      "aliases": [
       "js"
      ],
      "languageName": "JavaScript",
      "name": "javascript"
     },
     {
      "aliases": [],
      "languageName": "KQL",
      "name": "kql"
     },
     {
      "aliases": [],
      "languageName": "Mermaid",
      "name": "mermaid"
     },
     {
      "aliases": [
       "powershell"
      ],
      "languageName": "PowerShell",
      "name": "pwsh"
     },
     {
      "aliases": [],
      "languageName": "SQL",
      "name": "sql"
     },
     {
      "aliases": [],
      "name": "value"
     },
     {
      "aliases": [
       "frontend"
      ],
      "name": "vscode"
     },
     {
      "aliases": [],
      "name": "webview"
     }
    ]
   }
  }
 },
 "nbformat": 4,
 "nbformat_minor": 2
}
