{
 "cells": [
  {
   "cell_type": "code",
   "execution_count": 11,
   "metadata": {
    "dotnet_interactive": {
     "language": "fsharp"
    }
   },
   "outputs": [
    {
     "name": "stdout",
     "output_type": "stream",
     "text": [
      "first line\n"
     ]
    },
    {
     "ename": "Error",
     "evalue": "System.ArgumentException: Unexpected line: '$ ls' and state: '{ Root = { Name = \"/\"\n           Directories = set []\n           Files = set [] }\n  Path = [] }'\n   at FSI_0021.parseLines(State state, String line)\n   at FSI_0021.input@36-8.Invoke(State state, String line)\n   at Microsoft.FSharp.Collections.ListModule.Fold[T,TState](FSharpFunc`2 folder, TState state, FSharpList`1 list) in D:\\a\\_work\\1\\s\\src\\FSharp.Core\\list.fs:line 297\n   at <StartupCode$FSI_0021>.$FSI_0021.main@()\n   at System.RuntimeMethodHandle.InvokeMethod(Object target, Void** arguments, Signature sig, Boolean isConstructor)\n   at System.Reflection.MethodInvoker.Invoke(Object obj, IntPtr* args, BindingFlags invokeAttr)",
     "output_type": "error",
     "traceback": [
      "System.ArgumentException: Unexpected line: '$ ls' and state: '{ Root = { Name = \"/\"\n",
      "           Directories = set []\n",
      "           Files = set [] }\n",
      "  Path = [] }'\n",
      "   at FSI_0021.parseLines(State state, String line)\n",
      "   at FSI_0021.input@36-8.Invoke(State state, String line)\n",
      "   at Microsoft.FSharp.Collections.ListModule.Fold[T,TState](FSharpFunc`2 folder, TState state, FSharpList`1 list) in D:\\a\\_work\\1\\s\\src\\FSharp.Core\\list.fs:line 297\n",
      "   at <StartupCode$FSI_0021>.$FSI_0021.main@()\n",
      "   at System.RuntimeMethodHandle.InvokeMethod(Object target, Void** arguments, Signature sig, Boolean isConstructor)\n",
      "   at System.Reflection.MethodInvoker.Invoke(Object obj, IntPtr* args, BindingFlags invokeAttr)"
     ]
    }
   ],
   "source": [
    "let inputFile = \"example.txt\"\n",
    "// let inputFile = \"input.txt\"\n",
    " \n",
    "let readLines filePath = List.ofSeq(System.IO.File.ReadLines(filePath))\n",
    "\n",
    "[<Struct>]\n",
    "type File = { Name: string; Size: int }\n",
    "\n",
    "type Directory = { Name: string; Directories: Set<Directory>; Files: Set<File>; }\n",
    "\n",
    "let testFile = { Name = \"test.txt\"; Size = 123 }\n",
    "let testDirectory = { Name = \"someDir\"; Directories = Set.empty; Files = Set.singleton testFile }\n",
    "\n",
    "let testDirectory2 = { Name = \"otherDir\"; Directories = Set.singleton testDirectory; Files = Set.singleton testFile }\n",
    "\n",
    "type Path = list<string>\n",
    "\n",
    "type State = { Root: Directory; Path: Path }\n",
    "\n",
    "let emptyRoot = { Name = \"/\"; Directories = Set.empty; Files = Set.empty }\n",
    "let initState = { Root = emptyRoot; Path = [] }\n",
    "\n",
    "let (|Prefix|_|) (p:string) (s:string) =\n",
    "    if s.StartsWith(p) then\n",
    "        Some(s.Substring(p.Length))\n",
    "    else\n",
    "        None\n",
    "\n",
    "let parseLines state line = \n",
    "    match (state, line) with \n",
    "    | (_, \"$ cd /\") when state = initState  -> printfn \"first line\"; state\n",
    "    | _ -> raise (System.ArgumentException($\"Unexpected line: '{line}' and state: '{state}'\"))\n",
    "\n",
    "let input = \n",
    "    readLines inputFile\n",
    "    |> List.fold parseLines initState\n",
    "\n",
    "input"
   ]
  }
 ],
 "metadata": {
  "kernelspec": {
   "display_name": ".NET (C#)",
   "language": "C#",
   "name": ".net-csharp"
  },
  "polyglot_notebook": {
   "kernelInfo": {
    "defaultKernelName": "csharp",
    "items": [
     {
      "aliases": [
       "c#",
       "C#"
      ],
      "languageName": "C#",
      "name": "csharp"
     },
     {
      "aliases": [],
      "languageName": null,
      "name": ".NET"
     },
     {
      "aliases": [
       "f#",
       "F#"
      ],
      "languageName": "F#",
      "name": "fsharp"
     },
     {
      "aliases": [],
      "languageName": "HTML",
      "name": "html"
     },
     {
      "aliases": [
       "js"
      ],
      "languageName": "JavaScript",
      "name": "javascript"
     },
     {
      "aliases": [],
      "languageName": "KQL",
      "name": "kql"
     },
     {
      "aliases": [],
      "languageName": "Mermaid",
      "name": "mermaid"
     },
     {
      "aliases": [
       "powershell"
      ],
      "languageName": "PowerShell",
      "name": "pwsh"
     },
     {
      "aliases": [],
      "languageName": "SQL",
      "name": "sql"
     },
     {
      "aliases": [],
      "name": "value"
     },
     {
      "aliases": [
       "frontend"
      ],
      "languageName": null,
      "name": "vscode"
     },
     {
      "aliases": [],
      "name": "webview"
     }
    ]
   }
  }
 },
 "nbformat": 4,
 "nbformat_minor": 2
}
