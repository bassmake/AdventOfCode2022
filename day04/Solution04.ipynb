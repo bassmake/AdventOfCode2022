{
 "cells": [
  {
   "cell_type": "code",
   "execution_count": 17,
   "metadata": {
    "dotnet_interactive": {
     "language": "fsharp"
    },
    "vscode": {
     "languageId": "dotnet-interactive.fsharp"
    }
   },
   "outputs": [
    {
     "data": {
      "text/html": [
       "<table><thead><tr><th><i>index</i></th><th>Item1</th><th>Item2</th></tr></thead><tbody><tr><td>0</td><td><table><thead><tr><th>Item1</th><th>Item2</th></tr></thead><tbody><tr><td><div class=\"dni-plaintext\">2</div></td><td><div class=\"dni-plaintext\">88</div></td></tr></tbody></table></td><td><table><thead><tr><th>Item1</th><th>Item2</th></tr></thead><tbody><tr><td><div class=\"dni-plaintext\">13</div></td><td><div class=\"dni-plaintext\">89</div></td></tr></tbody></table></td></tr><tr><td>1</td><td><table><thead><tr><th>Item1</th><th>Item2</th></tr></thead><tbody><tr><td><div class=\"dni-plaintext\">12</div></td><td><div class=\"dni-plaintext\">94</div></td></tr></tbody></table></td><td><table><thead><tr><th>Item1</th><th>Item2</th></tr></thead><tbody><tr><td><div class=\"dni-plaintext\">12</div></td><td><div class=\"dni-plaintext\">94</div></td></tr></tbody></table></td></tr><tr><td>2</td><td><table><thead><tr><th>Item1</th><th>Item2</th></tr></thead><tbody><tr><td><div class=\"dni-plaintext\">34</div></td><td><div class=\"dni-plaintext\">69</div></td></tr></tbody></table></td><td><table><thead><tr><th>Item1</th><th>Item2</th></tr></thead><tbody><tr><td><div class=\"dni-plaintext\">34</div></td><td><div class=\"dni-plaintext\">61</div></td></tr></tbody></table></td></tr><tr><td>3</td><td><table><thead><tr><th>Item1</th><th>Item2</th></tr></thead><tbody><tr><td><div class=\"dni-plaintext\">9</div></td><td><div class=\"dni-plaintext\">76</div></td></tr></tbody></table></td><td><table><thead><tr><th>Item1</th><th>Item2</th></tr></thead><tbody><tr><td><div class=\"dni-plaintext\">9</div></td><td><div class=\"dni-plaintext\">9</div></td></tr></tbody></table></td></tr><tr><td>4</td><td><table><thead><tr><th>Item1</th><th>Item2</th></tr></thead><tbody><tr><td><div class=\"dni-plaintext\">35</div></td><td><div class=\"dni-plaintext\">82</div></td></tr></tbody></table></td><td><table><thead><tr><th>Item1</th><th>Item2</th></tr></thead><tbody><tr><td><div class=\"dni-plaintext\">34</div></td><td><div class=\"dni-plaintext\">52</div></td></tr></tbody></table></td></tr><tr><td>5</td><td><table><thead><tr><th>Item1</th><th>Item2</th></tr></thead><tbody><tr><td><div class=\"dni-plaintext\">9</div></td><td><div class=\"dni-plaintext\">10</div></td></tr></tbody></table></td><td><table><thead><tr><th>Item1</th><th>Item2</th></tr></thead><tbody><tr><td><div class=\"dni-plaintext\">10</div></td><td><div class=\"dni-plaintext\">88</div></td></tr></tbody></table></td></tr><tr><td>6</td><td><table><thead><tr><th>Item1</th><th>Item2</th></tr></thead><tbody><tr><td><div class=\"dni-plaintext\">57</div></td><td><div class=\"dni-plaintext\">71</div></td></tr></tbody></table></td><td><table><thead><tr><th>Item1</th><th>Item2</th></tr></thead><tbody><tr><td><div class=\"dni-plaintext\">71</div></td><td><div class=\"dni-plaintext\">75</div></td></tr></tbody></table></td></tr><tr><td>7</td><td><table><thead><tr><th>Item1</th><th>Item2</th></tr></thead><tbody><tr><td><div class=\"dni-plaintext\">50</div></td><td><div class=\"dni-plaintext\">71</div></td></tr></tbody></table></td><td><table><thead><tr><th>Item1</th><th>Item2</th></tr></thead><tbody><tr><td><div class=\"dni-plaintext\">71</div></td><td><div class=\"dni-plaintext\">91</div></td></tr></tbody></table></td></tr><tr><td>8</td><td><table><thead><tr><th>Item1</th><th>Item2</th></tr></thead><tbody><tr><td><div class=\"dni-plaintext\">44</div></td><td><div class=\"dni-plaintext\">67</div></td></tr></tbody></table></td><td><table><thead><tr><th>Item1</th><th>Item2</th></tr></thead><tbody><tr><td><div class=\"dni-plaintext\">43</div></td><td><div class=\"dni-plaintext\">43</div></td></tr></tbody></table></td></tr><tr><td>9</td><td><table><thead><tr><th>Item1</th><th>Item2</th></tr></thead><tbody><tr><td><div class=\"dni-plaintext\">68</div></td><td><div class=\"dni-plaintext\">69</div></td></tr></tbody></table></td><td><table><thead><tr><th>Item1</th><th>Item2</th></tr></thead><tbody><tr><td><div class=\"dni-plaintext\">67</div></td><td><div class=\"dni-plaintext\">68</div></td></tr></tbody></table></td></tr><tr><td>10</td><td><table><thead><tr><th>Item1</th><th>Item2</th></tr></thead><tbody><tr><td><div class=\"dni-plaintext\">6</div></td><td><div class=\"dni-plaintext\">47</div></td></tr></tbody></table></td><td><table><thead><tr><th>Item1</th><th>Item2</th></tr></thead><tbody><tr><td><div class=\"dni-plaintext\">6</div></td><td><div class=\"dni-plaintext\">48</div></td></tr></tbody></table></td></tr><tr><td>11</td><td><table><thead><tr><th>Item1</th><th>Item2</th></tr></thead><tbody><tr><td><div class=\"dni-plaintext\">6</div></td><td><div class=\"dni-plaintext\">52</div></td></tr></tbody></table></td><td><table><thead><tr><th>Item1</th><th>Item2</th></tr></thead><tbody><tr><td><div class=\"dni-plaintext\">7</div></td><td><div class=\"dni-plaintext\">67</div></td></tr></tbody></table></td></tr><tr><td>12</td><td><table><thead><tr><th>Item1</th><th>Item2</th></tr></thead><tbody><tr><td><div class=\"dni-plaintext\">43</div></td><td><div class=\"dni-plaintext\">51</div></td></tr></tbody></table></td><td><table><thead><tr><th>Item1</th><th>Item2</th></tr></thead><tbody><tr><td><div class=\"dni-plaintext\">40</div></td><td><div class=\"dni-plaintext\">44</div></td></tr></tbody></table></td></tr><tr><td>13</td><td><table><thead><tr><th>Item1</th><th>Item2</th></tr></thead><tbody><tr><td><div class=\"dni-plaintext\">56</div></td><td><div class=\"dni-plaintext\">67</div></td></tr></tbody></table></td><td><table><thead><tr><th>Item1</th><th>Item2</th></tr></thead><tbody><tr><td><div class=\"dni-plaintext\">57</div></td><td><div class=\"dni-plaintext\">69</div></td></tr></tbody></table></td></tr><tr><td>14</td><td><table><thead><tr><th>Item1</th><th>Item2</th></tr></thead><tbody><tr><td><div class=\"dni-plaintext\">94</div></td><td><div class=\"dni-plaintext\">94</div></td></tr></tbody></table></td><td><table><thead><tr><th>Item1</th><th>Item2</th></tr></thead><tbody><tr><td><div class=\"dni-plaintext\">68</div></td><td><div class=\"dni-plaintext\">94</div></td></tr></tbody></table></td></tr><tr><td>15</td><td><table><thead><tr><th>Item1</th><th>Item2</th></tr></thead><tbody><tr><td><div class=\"dni-plaintext\">10</div></td><td><div class=\"dni-plaintext\">97</div></td></tr></tbody></table></td><td><table><thead><tr><th>Item1</th><th>Item2</th></tr></thead><tbody><tr><td><div class=\"dni-plaintext\">9</div></td><td><div class=\"dni-plaintext\">9</div></td></tr></tbody></table></td></tr><tr><td>16</td><td><table><thead><tr><th>Item1</th><th>Item2</th></tr></thead><tbody><tr><td><div class=\"dni-plaintext\">40</div></td><td><div class=\"dni-plaintext\">95</div></td></tr></tbody></table></td><td><table><thead><tr><th>Item1</th><th>Item2</th></tr></thead><tbody><tr><td><div class=\"dni-plaintext\">40</div></td><td><div class=\"dni-plaintext\">98</div></td></tr></tbody></table></td></tr><tr><td>17</td><td><table><thead><tr><th>Item1</th><th>Item2</th></tr></thead><tbody><tr><td><div class=\"dni-plaintext\">22</div></td><td><div class=\"dni-plaintext\">81</div></td></tr></tbody></table></td><td><table><thead><tr><th>Item1</th><th>Item2</th></tr></thead><tbody><tr><td><div class=\"dni-plaintext\">22</div></td><td><div class=\"dni-plaintext\">22</div></td></tr></tbody></table></td></tr><tr><td>18</td><td><table><thead><tr><th>Item1</th><th>Item2</th></tr></thead><tbody><tr><td><div class=\"dni-plaintext\">7</div></td><td><div class=\"dni-plaintext\">58</div></td></tr></tbody></table></td><td><table><thead><tr><th>Item1</th><th>Item2</th></tr></thead><tbody><tr><td><div class=\"dni-plaintext\">7</div></td><td><div class=\"dni-plaintext\">59</div></td></tr></tbody></table></td></tr><tr><td>19</td><td><table><thead><tr><th>Item1</th><th>Item2</th></tr></thead><tbody><tr><td><div class=\"dni-plaintext\">8</div></td><td><div class=\"dni-plaintext\">82</div></td></tr></tbody></table></td><td><table><thead><tr><th>Item1</th><th>Item2</th></tr></thead><tbody><tr><td><div class=\"dni-plaintext\">82</div></td><td><div class=\"dni-plaintext\">82</div></td></tr></tbody></table></td></tr><tr><td colspan=\"3\"><i>... (more)</i></td></tr></tbody></table>"
      ]
     },
     "metadata": {},
     "output_type": "display_data"
    }
   ],
   "source": [
    "// let inputFile = \"example.txt\"\n",
    "let inputFile = \"input.txt\"\n",
    "\n",
    "let readLines filePath = List.ofSeq(System.IO.File.ReadLines(filePath))\n",
    "\n",
    "let splitString (pivot: char) (input: string) = \n",
    "    let list = Seq.toList input\n",
    "    let index = List.findIndex (fun  c -> c = pivot) list\n",
    "    let (first, second) = List.splitAt index list\n",
    "    (System.String.Concat(first), System.String.Concat(second.Tail))\n",
    "\n",
    "splitString ',' \"2-8,3-7\"\n",
    "\n",
    "\n",
    "let parseLines acc line = \n",
    "    let (first, second) = splitString ',' line\n",
    "    let (firstFrom, firstTo) = splitString '-' first\n",
    "    let (secondFrom, secondTo) = splitString '-' second\n",
    "    ((int firstFrom, int firstTo), (int secondFrom, int secondTo)) :: acc\n",
    "\n",
    "parseLines [] \"2-8,3-7\"\n",
    "\n",
    "let input = \n",
    "    readLines inputFile\n",
    "    |> List.fold parseLines []\n",
    "    |> List.rev\n",
    "\n",
    "input"
   ]
  },
  {
   "cell_type": "code",
   "execution_count": 20,
   "metadata": {
    "dotnet_interactive": {
     "language": "fsharp"
    },
    "vscode": {
     "languageId": "dotnet-interactive.fsharp"
    }
   },
   "outputs": [
    {
     "data": {
      "text/plain": [
       "Firs rresult is [(False, 485); (True, 515)], second result is [(False, 883); (True, 117)]"
      ]
     },
     "metadata": {},
     "output_type": "display_data"
    }
   ],
   "source": [
    "let sectors = input\n",
    "              |> List.map (fun ((ff, ft), (sf, st)) -> ([ff .. ft], [sf .. st]))\n",
    "              |> List.map (fun (first, second) -> (Set.ofList first, Set.ofList second))\n",
    "\n",
    "let firstResult = sectors  \n",
    "                  |> List.map (fun (first, second) -> Set.isSubset first second || Set.isSubset second first)\n",
    "                  |> List.countBy (fun elem -> elem)\n",
    "\n",
    "let secondResult = sectors  \n",
    "                   |> List.map (fun (first, second) -> (Set.intersect first second, Set.intersect second first))\n",
    "                   |> List.countBy (fun (first, second) -> Set.isEmpty first || Set.isEmpty second)\n",
    "\n",
    "$\"Firs result is {firstResult}, second result is {secondResult}\""
   ]
  }
 ],
 "metadata": {
  "kernelspec": {
   "display_name": ".NET (C#)",
   "language": "C#",
   "name": ".net-csharp"
  },
  "language_info": {
   "file_extension": ".cs",
   "mimetype": "text/x-csharp",
   "name": "C#",
   "pygments_lexer": "csharp",
   "version": "9.0"
  },
  "orig_nbformat": 4
 },
 "nbformat": 4,
 "nbformat_minor": 2
}
