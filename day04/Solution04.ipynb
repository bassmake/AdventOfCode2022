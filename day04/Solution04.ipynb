{
 "cells": [
  {
   "cell_type": "code",
   "execution_count": null,
   "metadata": {
    "dotnet_interactive": {
     "language": "fsharp"
    }
   },
   "outputs": [],
   "source": [
    "// let inputFile = \"example.txt\"\n",
    "let inputFile = \"input.txt\"\n",
    "\n",
    "let readLines filePath = List.ofSeq(System.IO.File.ReadLines(filePath))\n",
    "\n",
    "let splitString (pivot: char) (input: string) = \n",
    "    let list = Seq.toList input\n",
    "    let index = List.findIndex (fun  c -> c = pivot) list\n",
    "    let (first, second) = List.splitAt index list\n",
    "    (System.String.Concat(first), System.String.Concat(second.Tail))\n",
    "\n",
    "splitString ',' \"2-8,3-7\"\n",
    "\n",
    "\n",
    "let parseLines acc line = \n",
    "    let (first, second) = splitString ',' line\n",
    "    let (firstFrom, firstTo) = splitString '-' first\n",
    "    let (secondFrom, secondTo) = splitString '-' second\n",
    "    ((int firstFrom, int firstTo), (int secondFrom, int secondTo)) :: acc\n",
    "\n",
    "parseLines [] \"2-8,3-7\"\n",
    "\n",
    "let input = \n",
    "    readLines inputFile\n",
    "    |> List.fold parseLines []\n",
    "    |> List.rev\n",
    "\n",
    "input"
   ]
  },
  {
   "cell_type": "code",
   "execution_count": null,
   "metadata": {
    "dotnet_interactive": {
     "language": "fsharp"
    }
   },
   "outputs": [],
   "source": [
    "let sectors = input\n",
    "              |> List.map (fun ((ff, ft), (sf, st)) -> ([ff .. ft], [sf .. st]))\n",
    "              |> List.map (fun (first, second) -> (Set.ofList first, Set.ofList second))\n",
    "\n",
    "let firstResult = sectors  \n",
    "                  |> List.map (fun (first, second) -> Set.isSubset first second || Set.isSubset second first)\n",
    "                  |> List.countBy (fun elem -> elem)\n",
    "\n",
    "let secondResult = sectors  \n",
    "                   |> List.map (fun (first, second) -> (Set.intersect first second, Set.intersect second first))\n",
    "                   |> List.countBy (fun (first, second) -> Set.isEmpty first || Set.isEmpty second)\n",
    "\n",
    "$\"Firs result is {firstResult}, second result is {secondResult}\""
   ]
  }
 ],
 "metadata": {
  "kernelspec": {
   "display_name": ".NET (C#)",
   "language": "C#",
   "name": ".net-csharp"
  },
  "polyglot_notebook": {
   "kernelInfo": {
    "defaultKernelName": "csharp",
    "items": [
     {
      "aliases": [
       "c#",
       "C#"
      ],
      "languageName": "C#",
      "name": "csharp"
     },
     {
      "aliases": [],
      "name": ".NET"
     },
     {
      "aliases": [
       "f#",
       "F#"
      ],
      "languageName": "F#",
      "name": "fsharp"
     },
     {
      "aliases": [],
      "languageName": "HTML",
      "name": "html"
     },
     {
      "aliases": [
       "js"
      ],
      "languageName": "JavaScript",
      "name": "javascript"
     },
     {
      "aliases": [],
      "languageName": "KQL",
      "name": "kql"
     },
     {
      "aliases": [],
      "languageName": "Mermaid",
      "name": "mermaid"
     },
     {
      "aliases": [
       "powershell"
      ],
      "languageName": "PowerShell",
      "name": "pwsh"
     },
     {
      "aliases": [],
      "languageName": "SQL",
      "name": "sql"
     },
     {
      "aliases": [],
      "name": "value"
     },
     {
      "aliases": [
       "frontend"
      ],
      "name": "vscode"
     },
     {
      "aliases": [],
      "name": "webview"
     }
    ]
   }
  }
 },
 "nbformat": 4,
 "nbformat_minor": 2
}
