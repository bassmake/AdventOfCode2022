{
 "cells": [
  {
   "cell_type": "code",
   "execution_count": 6,
   "metadata": {
    "dotnet_interactive": {
     "language": "fsharp"
    },
    "vscode": {
     "languageId": "dotnet-interactive.fsharp"
    }
   },
   "outputs": [
    {
     "data": {
      "text/html": [
       "<table><thead><tr><th><i>index</i></th><th>Item1</th><th>Item2</th></tr></thead><tbody><tr><td>0</td><td><table><thead><tr><th>Item1</th><th>Item2</th></tr></thead><tbody><tr><td><div class=\"dni-plaintext\">2</div></td><td><div class=\"dni-plaintext\">4</div></td></tr></tbody></table></td><td><table><thead><tr><th>Item1</th><th>Item2</th></tr></thead><tbody><tr><td><div class=\"dni-plaintext\">6</div></td><td><div class=\"dni-plaintext\">8</div></td></tr></tbody></table></td></tr><tr><td>1</td><td><table><thead><tr><th>Item1</th><th>Item2</th></tr></thead><tbody><tr><td><div class=\"dni-plaintext\">2</div></td><td><div class=\"dni-plaintext\">3</div></td></tr></tbody></table></td><td><table><thead><tr><th>Item1</th><th>Item2</th></tr></thead><tbody><tr><td><div class=\"dni-plaintext\">4</div></td><td><div class=\"dni-plaintext\">5</div></td></tr></tbody></table></td></tr><tr><td>2</td><td><table><thead><tr><th>Item1</th><th>Item2</th></tr></thead><tbody><tr><td><div class=\"dni-plaintext\">5</div></td><td><div class=\"dni-plaintext\">7</div></td></tr></tbody></table></td><td><table><thead><tr><th>Item1</th><th>Item2</th></tr></thead><tbody><tr><td><div class=\"dni-plaintext\">7</div></td><td><div class=\"dni-plaintext\">9</div></td></tr></tbody></table></td></tr><tr><td>3</td><td><table><thead><tr><th>Item1</th><th>Item2</th></tr></thead><tbody><tr><td><div class=\"dni-plaintext\">2</div></td><td><div class=\"dni-plaintext\">8</div></td></tr></tbody></table></td><td><table><thead><tr><th>Item1</th><th>Item2</th></tr></thead><tbody><tr><td><div class=\"dni-plaintext\">3</div></td><td><div class=\"dni-plaintext\">7</div></td></tr></tbody></table></td></tr><tr><td>4</td><td><table><thead><tr><th>Item1</th><th>Item2</th></tr></thead><tbody><tr><td><div class=\"dni-plaintext\">6</div></td><td><div class=\"dni-plaintext\">6</div></td></tr></tbody></table></td><td><table><thead><tr><th>Item1</th><th>Item2</th></tr></thead><tbody><tr><td><div class=\"dni-plaintext\">4</div></td><td><div class=\"dni-plaintext\">6</div></td></tr></tbody></table></td></tr><tr><td>5</td><td><table><thead><tr><th>Item1</th><th>Item2</th></tr></thead><tbody><tr><td><div class=\"dni-plaintext\">2</div></td><td><div class=\"dni-plaintext\">6</div></td></tr></tbody></table></td><td><table><thead><tr><th>Item1</th><th>Item2</th></tr></thead><tbody><tr><td><div class=\"dni-plaintext\">4</div></td><td><div class=\"dni-plaintext\">8</div></td></tr></tbody></table></td></tr></tbody></table>"
      ]
     },
     "metadata": {},
     "output_type": "display_data"
    }
   ],
   "source": [
    "let inputFile = \"example.txt\"\n",
    "// let inputFile = \"input.txt\"\n",
    "\n",
    "let readLines filePath = List.ofSeq(System.IO.File.ReadLines(filePath))\n",
    "\n",
    "let splitString (pivot: char) (input: string) = \n",
    "    let list = Seq.toList input\n",
    "    let index = List.findIndex (fun  c -> c = pivot) list\n",
    "    let (first, second) = List.splitAt index list\n",
    "    (System.String.Concat(first), System.String.Concat(second.Tail))\n",
    "\n",
    "splitString ',' \"2-8,3-7\"\n",
    "\n",
    "\n",
    "let parseLines acc line = \n",
    "    let (first, second) = splitString ',' line\n",
    "    let (firstFrom, firstTo) = splitString '-' first\n",
    "    let (secondFrom, secondTo) = splitString '-' second\n",
    "    ((int firstFrom, int firstTo), (int secondFrom, int secondTo)) :: acc\n",
    "\n",
    "parseLines [] \"2-8,3-7\"\n",
    "\n",
    "let input = \n",
    "    readLines inputFile\n",
    "    |> List.fold parseLines []\n",
    "    |> List.rev\n",
    "\n",
    "input"
   ]
  }
 ],
 "metadata": {
  "kernelspec": {
   "display_name": ".NET (C#)",
   "language": "C#",
   "name": ".net-csharp"
  },
  "language_info": {
   "file_extension": ".cs",
   "mimetype": "text/x-csharp",
   "name": "C#",
   "pygments_lexer": "csharp",
   "version": "9.0"
  },
  "orig_nbformat": 4
 },
 "nbformat": 4,
 "nbformat_minor": 2
}
