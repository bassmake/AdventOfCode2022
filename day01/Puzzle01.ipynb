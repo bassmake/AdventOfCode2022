{
 "cells": [
  {
   "cell_type": "code",
   "execution_count": 25,
   "metadata": {
    "dotnet_interactive": {
     "language": "fsharp"
    },
    "vscode": {
     "languageId": "dotnet-interactive.fsharp"
    }
   },
   "outputs": [
    {
     "data": {
      "text/plain": [
       "First three elves carry 202585 calories."
      ]
     },
     "metadata": {},
     "output_type": "display_data"
    }
   ],
   "source": [
    "let readLines filePath = List.ofSeq(System.IO.File.ReadLines(filePath))\n",
    "\n",
    "let consume (acc : list<int>) (line : string) =\n",
    "    match line with\n",
    "    | \"\" -> 0 :: acc\n",
    "    | n -> match acc with\n",
    "           | head :: tail -> head + (int n) :: tail\n",
    "           | [] -> [int n]\n",
    "\n",
    "\n",
    "let sortElfs file = \n",
    "    readLines file\n",
    "    |> List.fold consume []\n",
    "    |> List.rev\n",
    "    |> List.indexed\n",
    "    |> List.map (fun (elf, calories) -> (elf + 1, calories))\n",
    "    |> List.sortBy (fun (elf, calories) -> -calories)\n",
    "\n",
    "let solveFirst file = \n",
    "    sortElfs file\n",
    "    |> List.head\n",
    "\n",
    "let exampleFirstSolution = solveFirst \"example.txt\"\n",
    "let (elf, calories) = solveFirst \"input.txt\"\n",
    "$\"Elf number {elf} carries {calories} calories.\"\n",
    "\n",
    "let solveSecond file =\n",
    "    sortElfs file\n",
    "    |> List.take 3\n",
    "    |> List.sumBy (fun (elf, calories) -> calories)\n",
    "\n",
    "let exampleSecondSolution = solveSecond \"example.txt\"\n",
    "let totalCalories = solveSecond \"input.txt\"\n",
    "$\"First three elves carry {totalCalories} calories.\""
   ]
  }
 ],
 "metadata": {
  "kernelspec": {
   "display_name": ".NET (C#)",
   "language": "C#",
   "name": ".net-csharp"
  },
  "language_info": {
   "file_extension": ".cs",
   "mimetype": "text/x-csharp",
   "name": "C#",
   "pygments_lexer": "csharp",
   "version": "9.0"
  },
  "orig_nbformat": 4
 },
 "nbformat": 4,
 "nbformat_minor": 2
}
